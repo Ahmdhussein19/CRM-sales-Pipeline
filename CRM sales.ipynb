{
 "cells": [
  {
   "cell_type": "code",
   "execution_count": 1,
   "id": "b0a64187-33bf-4497-9fde-89e01c854983",
   "metadata": {},
   "outputs": [],
   "source": [
    "import pandas as pd\n",
    "\n",
    "# Path to your Excel file\n",
    "file_path = \"A:/Data analysis projects/Datasets/CRM_sales.xlsx\"\n",
    "\n",
    "# List of sheet names or indices you want to import (e.g., first 5 sheets)\n",
    "sheets = ['accounts', 'Products', 'Sales_pipeline', 'CRM_Sales_opportuinity']\n",
    "\n",
    "# Read multiple sheets into a dictionary of DataFrames\n",
    "dfs = pd.read_excel(file_path, sheet_name=sheets)\n",
    "\n",
    "# Access each sheet as a DataFrame\n",
    "dfaccounts = dfs['accounts']\n",
    "dfproducts = dfs['Products']\n",
    "dfsalespipeline = dfs['Sales_pipeline']\n",
    "dfsalesopp = dfs['CRM_Sales_opportuinity']"
   ]
  },
  {
   "cell_type": "code",
   "execution_count": 2,
   "id": "b2ede696-58e6-4549-9f76-d3a10ca45315",
   "metadata": {},
   "outputs": [
    {
     "name": "stdout",
     "output_type": "stream",
     "text": [
      "<class 'pandas.core.frame.DataFrame'>\n",
      "RangeIndex: 85 entries, 0 to 84\n",
      "Data columns (total 7 columns):\n",
      " #   Column            Non-Null Count  Dtype  \n",
      "---  ------            --------------  -----  \n",
      " 0   account           85 non-null     object \n",
      " 1   sector            85 non-null     object \n",
      " 2   year_established  85 non-null     int64  \n",
      " 3   revenue           85 non-null     float64\n",
      " 4   employees         85 non-null     int64  \n",
      " 5   office_location   85 non-null     object \n",
      " 6   subsidiary_of     15 non-null     object \n",
      "dtypes: float64(1), int64(2), object(4)\n",
      "memory usage: 4.8+ KB\n"
     ]
    }
   ],
   "source": [
    "dfaccounts.info()"
   ]
  },
  {
   "cell_type": "code",
   "execution_count": 3,
   "id": "94a175de-8562-40af-a616-75b5788f3cba",
   "metadata": {},
   "outputs": [
    {
     "name": "stdout",
     "output_type": "stream",
     "text": [
      "<class 'pandas.core.frame.DataFrame'>\n",
      "Index: 15 entries, 6 to 74\n",
      "Data columns (total 7 columns):\n",
      " #   Column            Non-Null Count  Dtype  \n",
      "---  ------            --------------  -----  \n",
      " 0   account           15 non-null     object \n",
      " 1   sector            15 non-null     object \n",
      " 2   year_established  15 non-null     int64  \n",
      " 3   revenue           15 non-null     float64\n",
      " 4   employees         15 non-null     int64  \n",
      " 5   office_location   15 non-null     object \n",
      " 6   subsidiary_of     15 non-null     object \n",
      "dtypes: float64(1), int64(2), object(4)\n",
      "memory usage: 960.0+ bytes\n"
     ]
    }
   ],
   "source": [
    "dfaccounts.loc[dfaccounts['subsidiary_of'].notnull()].info()"
   ]
  },
  {
   "cell_type": "code",
   "execution_count": 4,
   "id": "c9eb29cd-00ab-4dfa-bc32-82bdc28baf8d",
   "metadata": {},
   "outputs": [
    {
     "name": "stdout",
     "output_type": "stream",
     "text": [
      "<class 'pandas.core.frame.DataFrame'>\n",
      "RangeIndex: 7375 entries, 0 to 7374\n",
      "Data columns (total 2 columns):\n",
      " #   Column         Non-Null Count  Dtype \n",
      "---  ------         --------------  ----- \n",
      " 0   account        7375 non-null   object\n",
      " 1   subsidiary_of  1292 non-null   object\n",
      "dtypes: object(2)\n",
      "memory usage: 115.4+ KB\n"
     ]
    }
   ],
   "source": [
    "dfaccounts.merge(dfsalespipeline, \n",
    "                 left_on='account',\n",
    "                 right_on='account',\n",
    "                 how='inner')[['account','subsidiary_of']].info()"
   ]
  },
  {
   "cell_type": "code",
   "execution_count": 5,
   "id": "6e7f6b16-8da3-4f81-878c-95bbe37d1a0d",
   "metadata": {},
   "outputs": [
    {
     "name": "stdout",
     "output_type": "stream",
     "text": [
      "<class 'pandas.core.frame.DataFrame'>\n",
      "RangeIndex: 8800 entries, 0 to 8799\n",
      "Data columns (total 8 columns):\n",
      " #   Column          Non-Null Count  Dtype         \n",
      "---  ------          --------------  -----         \n",
      " 0   opportunity_id  8800 non-null   object        \n",
      " 1   sales_agent     8800 non-null   object        \n",
      " 2   product         8800 non-null   object        \n",
      " 3   account         7375 non-null   object        \n",
      " 4   deal_stage      8800 non-null   object        \n",
      " 5   engage_date     8300 non-null   datetime64[ns]\n",
      " 6   close_date      6711 non-null   datetime64[ns]\n",
      " 7   Revenue         6711 non-null   float64       \n",
      "dtypes: datetime64[ns](2), float64(1), object(5)\n",
      "memory usage: 550.1+ KB\n"
     ]
    }
   ],
   "source": [
    "dfsalespipeline.info()"
   ]
  },
  {
   "cell_type": "code",
   "execution_count": 6,
   "id": "a161402c-c84b-4024-aa8e-d70f9110581b",
   "metadata": {},
   "outputs": [],
   "source": [
    "# Get deal time in days\n",
    "dfsalespipeline['dealtime'] = (dfsalespipeline['close_date'] - dfsalespipeline['engage_date']).dt.days"
   ]
  },
  {
   "cell_type": "code",
   "execution_count": 7,
   "id": "8ed0dacf-1b85-4646-ae76-8339672ca630",
   "metadata": {
    "scrolled": true
   },
   "outputs": [
    {
     "name": "stdout",
     "output_type": "stream",
     "text": [
      "<class 'pandas.core.frame.DataFrame'>\n",
      "Index: 1292 entries, 458 to 6620\n",
      "Data columns (total 15 columns):\n",
      " #   Column            Non-Null Count  Dtype         \n",
      "---  ------            --------------  -----         \n",
      " 0   account           1292 non-null   object        \n",
      " 1   sector            1292 non-null   object        \n",
      " 2   year_established  1292 non-null   int64         \n",
      " 3   revenue           1292 non-null   float64       \n",
      " 4   employees         1292 non-null   int64         \n",
      " 5   office_location   1292 non-null   object        \n",
      " 6   subsidiary_of     1292 non-null   object        \n",
      " 7   opportunity_id    1292 non-null   object        \n",
      " 8   sales_agent       1292 non-null   object        \n",
      " 9   product           1292 non-null   object        \n",
      " 10  deal_stage        1292 non-null   object        \n",
      " 11  engage_date       1260 non-null   datetime64[ns]\n",
      " 12  close_date        1160 non-null   datetime64[ns]\n",
      " 13  Revenue           1160 non-null   float64       \n",
      " 14  dealtime          1160 non-null   float64       \n",
      "dtypes: datetime64[ns](2), float64(3), int64(2), object(8)\n",
      "memory usage: 161.5+ KB\n"
     ]
    }
   ],
   "source": [
    "dfmerged=dfaccounts.merge(dfsalespipeline, \n",
    "                 left_on='account',\n",
    "                 right_on='account',\n",
    "                 how='inner')\n",
    "dfmerged.loc[dfmerged['subsidiary_of'].notnull()].info()"
   ]
  },
  {
   "cell_type": "code",
   "execution_count": 8,
   "id": "3f8a12c6-ffa5-4647-8cfe-697515f40500",
   "metadata": {},
   "outputs": [],
   "source": [
    "dfmerged = dfmerged.loc[dfmerged['subsidiary_of'].notnull()]"
   ]
  },
  {
   "cell_type": "code",
   "execution_count": 9,
   "id": "f8429815-bcca-4456-868f-80488e6184c7",
   "metadata": {},
   "outputs": [
    {
     "name": "stdout",
     "output_type": "stream",
     "text": [
      "<class 'pandas.core.frame.DataFrame'>\n",
      "RangeIndex: 7 entries, 0 to 6\n",
      "Data columns (total 3 columns):\n",
      " #   Column       Non-Null Count  Dtype \n",
      "---  ------       --------------  ----- \n",
      " 0   product      7 non-null      object\n",
      " 1   series       7 non-null      object\n",
      " 2   sales_price  7 non-null      int64 \n",
      "dtypes: int64(1), object(2)\n",
      "memory usage: 300.0+ bytes\n"
     ]
    },
    {
     "data": {
      "text/plain": [
       "0"
      ]
     },
     "execution_count": 9,
     "metadata": {},
     "output_type": "execute_result"
    }
   ],
   "source": [
    "dfproducts.info()\n",
    "dfproducts.duplicated().sum()"
   ]
  },
  {
   "cell_type": "code",
   "execution_count": 10,
   "id": "7318794d-0aa7-4d45-80f9-56853a3b6eee",
   "metadata": {},
   "outputs": [
    {
     "name": "stdout",
     "output_type": "stream",
     "text": [
      "<class 'pandas.core.frame.DataFrame'>\n",
      "RangeIndex: 35 entries, 0 to 34\n",
      "Data columns (total 3 columns):\n",
      " #   Column           Non-Null Count  Dtype \n",
      "---  ------           --------------  ----- \n",
      " 0   sales_agent      35 non-null     object\n",
      " 1   manager          35 non-null     object\n",
      " 2   regional_office  35 non-null     object\n",
      "dtypes: object(3)\n",
      "memory usage: 972.0+ bytes\n"
     ]
    },
    {
     "data": {
      "text/plain": [
       "0"
      ]
     },
     "execution_count": 10,
     "metadata": {},
     "output_type": "execute_result"
    }
   ],
   "source": [
    "dfsalesopp.info()\n",
    "dfsalesopp.duplicated().sum()"
   ]
  },
  {
   "cell_type": "code",
   "execution_count": 11,
   "id": "5c225699-2308-400c-be69-3c148decc9b2",
   "metadata": {},
   "outputs": [
    {
     "name": "stdout",
     "output_type": "stream",
     "text": [
      "<class 'pandas.core.frame.DataFrame'>\n",
      "RangeIndex: 8800 entries, 0 to 8799\n",
      "Data columns (total 9 columns):\n",
      " #   Column          Non-Null Count  Dtype         \n",
      "---  ------          --------------  -----         \n",
      " 0   opportunity_id  8800 non-null   object        \n",
      " 1   sales_agent     8800 non-null   object        \n",
      " 2   product         8800 non-null   object        \n",
      " 3   account         7375 non-null   object        \n",
      " 4   deal_stage      8800 non-null   object        \n",
      " 5   engage_date     8300 non-null   datetime64[ns]\n",
      " 6   close_date      6711 non-null   datetime64[ns]\n",
      " 7   Revenue         6711 non-null   float64       \n",
      " 8   dealtime        6711 non-null   float64       \n",
      "dtypes: datetime64[ns](2), float64(2), object(5)\n",
      "memory usage: 618.9+ KB\n"
     ]
    },
    {
     "data": {
      "text/plain": [
       "0"
      ]
     },
     "execution_count": 11,
     "metadata": {},
     "output_type": "execute_result"
    }
   ],
   "source": [
    "dfsalespipeline.info()\n",
    "dfsalespipeline.duplicated().sum()"
   ]
  },
  {
   "cell_type": "code",
   "execution_count": 12,
   "id": "ee33664e-393e-49d1-9d2e-8ae71440b278",
   "metadata": {},
   "outputs": [
    {
     "data": {
      "text/plain": [
       "0"
      ]
     },
     "execution_count": 12,
     "metadata": {},
     "output_type": "execute_result"
    }
   ],
   "source": [
    "dfmerged.duplicated().sum()"
   ]
  },
  {
   "cell_type": "code",
   "execution_count": 13,
   "id": "ffe0e5af-cc39-4ff7-934e-990a04d7320e",
   "metadata": {},
   "outputs": [],
   "source": [
    "import sqlalchemy as sa\n",
    "\n",
    "connection_url = sa.engine.URL.create(\n",
    "    \"mssql+pyodbc\",\n",
    "    host=\".\\sql22\",\n",
    "    database=\"CRM_sales\",\n",
    "    query={\n",
    "        \"driver\" : \"ODBC Driver 17 for SQL Server\",\n",
    "        \"TrustedServerCertificate\": \"yes\",\n",
    "        \"MARS_Connection\" : \"yes\",\n",
    "        \"trusted_connection\" :\"yes\"\n",
    "    }\n",
    ")\n",
    "sqlalch_db = sa.create_engine(connection_url)\n",
    "conn = sqlalch_db.connect()"
   ]
  },
  {
   "cell_type": "code",
   "execution_count": 14,
   "id": "ac6b3cd3-a7be-4fe4-a08f-25c12fac45c8",
   "metadata": {},
   "outputs": [
    {
     "data": {
      "text/plain": [
       "85"
      ]
     },
     "execution_count": 14,
     "metadata": {},
     "output_type": "execute_result"
    }
   ],
   "source": [
    "table1 = 'Accounts'\n",
    "dfaccounts.to_sql(table1 , con=conn, if_exists='append', index=False, schema='dbo')"
   ]
  },
  {
   "cell_type": "code",
   "execution_count": 15,
   "id": "b8888a29-6802-4be1-93d2-bb0591346b8f",
   "metadata": {},
   "outputs": [
    {
     "data": {
      "text/plain": [
       "7"
      ]
     },
     "execution_count": 15,
     "metadata": {},
     "output_type": "execute_result"
    }
   ],
   "source": [
    "table2 = 'Products'\n",
    "dfproducts.to_sql(table2, con=conn, if_exists='append', index=False, schema='dbo')"
   ]
  },
  {
   "cell_type": "code",
   "execution_count": 16,
   "id": "9d7a9d76-570b-4f44-bf66-4f4d63f54bbe",
   "metadata": {},
   "outputs": [
    {
     "data": {
      "text/plain": [
       "35"
      ]
     },
     "execution_count": 16,
     "metadata": {},
     "output_type": "execute_result"
    }
   ],
   "source": [
    "table3 = 'Sales_Opportunity'\n",
    "dfsalesopp.to_sql(table3, con=conn, if_exists='append', index=False, schema='dbo')"
   ]
  },
  {
   "cell_type": "code",
   "execution_count": 17,
   "id": "50604d95-2068-463f-902d-6b228971d130",
   "metadata": {},
   "outputs": [
    {
     "data": {
      "text/plain": [
       "179"
      ]
     },
     "execution_count": 17,
     "metadata": {},
     "output_type": "execute_result"
    }
   ],
   "source": [
    "table4 = 'Sales_Pipeline'\n",
    "dfsalespipeline.to_sql(table4, con=conn, if_exists='append', index=False, schema='dbo')"
   ]
  },
  {
   "cell_type": "code",
   "execution_count": 18,
   "id": "56e82bb5-72ad-4d21-862c-7ab14f056992",
   "metadata": {},
   "outputs": [],
   "source": [
    "dfmerged = dfmerged.rename(columns={'revenue':'account_revenue','Revenue':'agent_revenue'})"
   ]
  },
  {
   "cell_type": "code",
   "execution_count": 19,
   "id": "8bf48e91-cea9-417e-b42d-052f033a40c4",
   "metadata": {},
   "outputs": [
    {
     "data": {
      "text/plain": [
       "Index(['account', 'sector', 'year_established', 'account_revenue', 'employees',\n",
       "       'office_location', 'subsidiary_of', 'opportunity_id', 'sales_agent',\n",
       "       'product', 'deal_stage', 'engage_date', 'close_date', 'agent_revenue',\n",
       "       'dealtime'],\n",
       "      dtype='object')"
      ]
     },
     "execution_count": 19,
     "metadata": {},
     "output_type": "execute_result"
    }
   ],
   "source": [
    "dfmerged.columns"
   ]
  },
  {
   "cell_type": "code",
   "execution_count": 20,
   "id": "1d3461a3-97d2-406b-9dad-220e86840568",
   "metadata": {},
   "outputs": [
    {
     "data": {
      "text/plain": [
       "41"
      ]
     },
     "execution_count": 20,
     "metadata": {},
     "output_type": "execute_result"
    }
   ],
   "source": [
    "table5 = 'merged_sales'\n",
    "dfmerged.to_sql(table5, con=conn, if_exists='append', index=False, schema='dbo')"
   ]
  }
 ],
 "metadata": {
  "kernelspec": {
   "display_name": "Python 3 (ipykernel)",
   "language": "python",
   "name": "python3"
  },
  "language_info": {
   "codemirror_mode": {
    "name": "ipython",
    "version": 3
   },
   "file_extension": ".py",
   "mimetype": "text/x-python",
   "name": "python",
   "nbconvert_exporter": "python",
   "pygments_lexer": "ipython3",
   "version": "3.11.4"
  },
  "widgets": {
   "application/vnd.jupyter.widget-state+json": {
    "state": {},
    "version_major": 2,
    "version_minor": 0
   }
  }
 },
 "nbformat": 4,
 "nbformat_minor": 5
}
